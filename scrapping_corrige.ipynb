{
 "cells": [
  {
   "cell_type": "markdown",
   "metadata": {},
   "source": [
    "### Exercice de web scraping avec BeautifulSoup\n",
    "\n",
    "Pour cet exercice, nous vous demandons d'obtenir 1) les informations personnelles des 721 pokemons sur le site internet [pokemondb.net](http://pokemondb.net/pokedex/national). Les informations que nous aimerions obtenir au final pour les pokemons sont celles contenues dans 4 tableaux :\n",
    "\n",
    "- Pokédex data\n",
    "- Training\n",
    "- Breeding\n",
    "- Base stats\n",
    "\n",
    "Pour exemple : [Pokemon Database](http://pokemondb.net/pokedex/nincada).\n",
    "\n",
    "2) Nous aimerions que vous récupériez également les images de chacun des pokémons et que vous les enregistriez dans un dossier  (indice : utilisez les modules request et [shutil](https://docs.python.org/3/library/shutil.html))\n",
    "_pour cette question ci, il faut que vous cherchiez de vous même certains éléments, tout n'est pas présent dans le TD_."
   ]
  },
  {
   "cell_type": "markdown",
   "metadata": {},
   "source": [
    "#### Récupération des infos sur un pokemon"
   ]
  },
  {
   "cell_type": "code",
   "execution_count": 1,
   "metadata": {},
   "outputs": [
    {
     "name": "stdout",
     "output_type": "stream",
     "text": [
      "<!DOCTYPE html>\n",
      "<html lang=\"en\">\n",
      "<head>\n",
      "<meta charset=\"utf-8\">\n",
      "<title>Bulbasaur Pokédex: stats, moves, evolution &amp; locations | Pokémon Database</title>\n",
      "<link rel=\"preconnect\" href=\"https://img.pokemondb.net\">\n",
      "<style>@font-face{font-family:\"Fira Sans\";font-style:normal;font-weight:400;font-display:swap;src:url(\"/static/fonts/fira-sans-v10-latin-400.woff2\") format(\"woff2\");unicode-range:U+0000-00FF,U+0131,U+0152-0153,U+02BB-02BC,U+02C6,U+02DA,U+02DC,U+2000-206F,U+2074,U+20AC,U+2122,U+2191,U+2193,U+2212,U+2215,U+FEFF,U+FFFD}@font-face{font-family:\"Fira Sans\";font-style:italic;font-weight:400;font-display:swap;src:url(\"/static/fonts/fira-sans-v10-latin-400i.woff2\") format(\"woff2\");unicode-range:U+0000-00FF,U+0131,U+0152-0153,U+02BB-02BC,U+02C6,U+02DA,U+02DC,U+2000-206F,U+2074,U+20AC,U+2122,U+2191,U+2193,U+2212,U+2215,U+FEFF,U+FFFD}@font-face{font-family:\"Fira Sans\";font-style:normal;font-weight:700;font-display:swap;src:url(\"/static/fonts/fira-sans-v10-latin-600.woff2\") format(\"woff2\")\n"
     ]
    }
   ],
   "source": [
    "# Récupération des infos sur un pokemon https://pokemondb.net/pokedex/bulbasaur\n",
    "import urllib\n",
    "import bs4\n",
    "from urllib.request import Request, urlopen\n",
    "\n",
    "# Etape 1 : se connecter à la page et obtenir le code source\n",
    "# utilisation de l'objet requête avec en-tête pour éviter une erreur \"HTTP Error 403: Forbidden\"\n",
    "\n",
    "url_pokemon = \"https://pokemondb.net/pokedex/bulbasaur\"\n",
    "\n",
    "req = Request(url_pokemon, headers={'User-Agent': 'Mozilla/5.0'})\n",
    "html = urlopen(req).read().decode('utf-8')\n",
    "print(html[:1000])"
   ]
  },
  {
   "cell_type": "code",
   "execution_count": 2,
   "metadata": {},
   "outputs": [],
   "source": [
    "# Etape 2 : utiliser le package BeautifulSoup\n",
    "# qui \"comprend\" les balises contenues dans la chaine de caractères renvoyée par la fonction request\n",
    "# utilisation du parser de la doc de bs 'html.parser'\n",
    "\n",
    "page = bs4.BeautifulSoup(html, 'html.parser')"
   ]
  },
  {
   "cell_type": "code",
   "execution_count": 3,
   "metadata": {},
   "outputs": [
    {
     "data": {
      "text/plain": [
       "7"
      ]
     },
     "execution_count": 3,
     "metadata": {},
     "output_type": "execute_result"
    }
   ],
   "source": [
    "# Etape 3: les données recherchées sont dans des tables du type <table class=\"vitals-table\">\n",
    "len(page.findAll('table', {'class' : 'vitals-table'}))"
   ]
  },
  {
   "cell_type": "markdown",
   "metadata": {},
   "source": [
    "Donées recherchées:\n",
    "- Pokédex data\n",
    "- Training\n",
    "- Breeding\n",
    "- Base stats"
   ]
  },
  {
   "cell_type": "code",
   "execution_count": 4,
   "metadata": {},
   "outputs": [],
   "source": [
    "# les données recherchées sont stockées dans un dictionnaire de caractéristiques\n",
    "# `feature` = {nom de la caractéristique: valeur}\n",
    "feature = {}"
   ]
  },
  {
   "cell_type": "code",
   "execution_count": 5,
   "metadata": {},
   "outputs": [
    {
     "name": "stdout",
     "output_type": "stream",
     "text": [
      "<table class=\"vitals-table\">\n",
      " <tbody>\n",
      "  <tr>\n",
      "   <th>\n",
      "    National №\n",
      "   </th>\n",
      "   <td>\n",
      "    <strong>\n",
      "     001\n",
      "    </strong>\n",
      "   </td>\n",
      "  </tr>\n",
      "  <tr>\n",
      "   <th>\n",
      "    Type\n",
      "   </th>\n",
      "   <td>\n",
      "    <a class=\"type-icon type-grass\" href=\"/type/grass\">\n",
      "     Grass\n",
      "    </a>\n",
      "    <a class=\"type-icon type-poison\" href=\"/type/poison\">\n",
      "     Poison\n",
      "    </a>\n",
      "   </td>\n",
      "  </tr>\n",
      "  <tr>\n",
      "   <th>\n",
      "    Species\n",
      "   </th>\n",
      "   <td>\n",
      "    Seed Pokémon\n",
      "   </td>\n",
      "  </tr>\n",
      "  <tr>\n",
      "   <th>\n",
      "    Height\n",
      "   </th>\n",
      "   <td>\n",
      "    0.7 m (2′04″)\n",
      "   </td>\n",
      "  </tr>\n",
      "  <tr>\n",
      "   <th>\n",
      "    Weight\n",
      "   </th>\n",
      "   <td>\n",
      "    6.9 kg (15.2 lbs)\n",
      "   </td>\n",
      "  </tr>\n",
      "  <tr>\n",
      "   <th>\n",
      "    Abilities\n",
      "   </th>\n",
      "   <td>\n",
      "    <span class=\"text-muted\">\n",
      "     1.\n",
      "     <a href=\"/ability/overgrow\" title=\"Powers up Grass-type moves in a pinch.\">\n",
      "      Overgrow\n",
      "     </a>\n",
      "    </span>\n",
      "    <br/>\n",
      "    <small class=\"text-muted\">\n",
      "     <a href=\"/ability/chlorophyll\" title=\"Boosts the Pokémon's Speed in sunshine.\">\n",
      "      Chlorophyll\n",
      "     </a>\n",
      "     (hidden ability)\n",
      "    </small>\n",
      "    <br/>\n",
      "   </td>\n",
      "  </tr>\n",
      "  <tr>\n",
      "   <th>\n",
      "    Local №\n",
      "   </th>\n",
      "   <td>\n",
      "    001\n",
      "    <small class=\"text-muted\">\n",
      "     (Red/Blue/Yellow)\n",
      "    </small>\n",
      "    <br/>\n",
      "    226\n",
      "    <small class=\"text-muted\">\n",
      "     (Gold/Silver/Crystal)\n",
      "    </small>\n",
      "    <br/>\n",
      "    001\n",
      "    <small class=\"text-muted\">\n",
      "     (FireRed/LeafGreen)\n",
      "    </small>\n",
      "    <br/>\n",
      "    231\n",
      "    <small class=\"text-muted\">\n",
      "     (HeartGold/SoulSilver)\n",
      "    </small>\n",
      "    <br/>\n",
      "    080\n",
      "    <small class=\"text-muted\">\n",
      "     (X/Y — Central Kalos)\n",
      "    </small>\n",
      "    <br/>\n",
      "    001\n",
      "    <small class=\"text-muted\">\n",
      "     (Let's Go Pikachu/Let's Go Eevee)\n",
      "    </small>\n",
      "    <br/>\n",
      "    068\n",
      "    <small class=\"text-muted\">\n",
      "     (The Isle of Armor)\n",
      "    </small>\n",
      "    <br/>\n",
      "   </td>\n",
      "  </tr>\n",
      " </tbody>\n",
      "</table>\n",
      "\n"
     ]
    }
   ],
   "source": [
    "# Affichage du code html de la première table qui contient les \"Pokédex data\"\n",
    "table = page.findAll('table', {'class' : 'vitals-table'})[0]\n",
    "print(table.prettify())\n",
    "\n",
    "# Dans une ligne du tableau <tr> ... </tr>\n",
    "# on récupère l'information de l'en-tête qui servira de clé <th> ... </th>\n",
    "# la valeur sera le contenu de du <td> ... </td> correpondant"
   ]
  },
  {
   "cell_type": "code",
   "execution_count": 6,
   "metadata": {},
   "outputs": [
    {
     "name": "stdout",
     "output_type": "stream",
     "text": [
      "National №\n",
      "001\n",
      "---\n",
      "Type\n",
      "\n",
      "Grass Poison \n",
      "---\n",
      "Species\n",
      "Seed Pokémon\n",
      "---\n",
      "Height\n",
      "0.7 m (2′04″)\n",
      "---\n",
      "Weight\n",
      "6.9 kg (15.2 lbs)\n",
      "---\n",
      "Abilities\n",
      "1. OvergrowChlorophyll (hidden ability)\n",
      "---\n",
      "Local №\n",
      "001 (Red/Blue/Yellow)226 (Gold/Silver/Crystal)001 (FireRed/LeafGreen)231 (HeartGold/SoulSilver)080 (X/Y — Central Kalos)001 (Let's Go Pikachu/Let's Go Eevee)068 (The Isle of Armor)\n",
      "---\n"
     ]
    }
   ],
   "source": [
    "# Dans une ligne du tableau <tr> ... </tr>\n",
    "# on récupère l'information de l'en-tête qui servira de clé <th> ... </th>\n",
    "# la valeur sera le contenu de du <td> ... </td> correpondant\n",
    "for row in table.findAll({'tr'}) :\n",
    "    print(row.th.string)\n",
    "    print(row.td.getText())\n",
    "    print(\"---\")"
   ]
  },
  {
   "cell_type": "code",
   "execution_count": 7,
   "metadata": {},
   "outputs": [],
   "source": [
    "feature.clear()"
   ]
  },
  {
   "cell_type": "code",
   "execution_count": 8,
   "metadata": {},
   "outputs": [
    {
     "data": {
      "text/plain": [
       "{'National №': '001',\n",
       " 'Type': '\\nGrass Poison ',\n",
       " 'Species': 'Seed Pokémon',\n",
       " 'Height': '0.7\\xa0m (2′04″)',\n",
       " 'Weight': '6.9\\xa0kg (15.2\\xa0lbs)',\n",
       " 'Abilities': '1. OvergrowChlorophyll (hidden ability)',\n",
       " 'Local №': \"001 (Red/Blue/Yellow)226 (Gold/Silver/Crystal)001 (FireRed/LeafGreen)231 (HeartGold/SoulSilver)080 (X/Y — Central Kalos)001 (Let's Go Pikachu/Let's Go Eevee)068 (The Isle of Armor)\"}"
      ]
     },
     "execution_count": 8,
     "metadata": {},
     "output_type": "execute_result"
    }
   ],
   "source": [
    "# Alimentation du dictionnaire de caractéristiques\n",
    "for row in table.findAll({'tr'}) :\n",
    "    key = row.th.string\n",
    "    value = row.td.getText()\n",
    "    feature[key] = value\n",
    "\n",
    "feature"
   ]
  },
  {
   "cell_type": "code",
   "execution_count": 9,
   "metadata": {},
   "outputs": [
    {
     "data": {
      "text/plain": [
       "{'National №': '001',\n",
       " 'Type': '\\nGrass Poison ',\n",
       " 'Species': 'Seed Pokémon',\n",
       " 'Height': '0.7\\xa0m (2′04″)',\n",
       " 'Weight': '6.9\\xa0kg (15.2\\xa0lbs)',\n",
       " 'Abilities': '1. OvergrowChlorophyll (hidden ability)',\n",
       " 'Local №': \"001 (Red/Blue/Yellow)226 (Gold/Silver/Crystal)001 (FireRed/LeafGreen)231 (HeartGold/SoulSilver)080 (X/Y — Central Kalos)001 (Let's Go Pikachu/Let's Go Eevee)068 (The Isle of Armor)\",\n",
       " 'EV yield': '\\n1 Special Attack ',\n",
       " 'Catch rate': '\\n45 (5.9% with PokéBall, full HP)\\n',\n",
       " None: '\\n50 (normal)\\n',\n",
       " 'Base Exp.': '64',\n",
       " 'Growth Rate': 'Medium Slow',\n",
       " 'Egg Groups': 'Grass, Monster',\n",
       " 'Gender': '87.5% male, 12.5% female',\n",
       " 'Egg cycles': '20 (4,884–5,140 steps)\\n',\n",
       " 'HP': '45',\n",
       " 'Attack': '49',\n",
       " 'Defense': '49',\n",
       " 'Sp. Atk': '65',\n",
       " 'Sp. Def': '65',\n",
       " 'Speed': '45',\n",
       " 'Total': '318'}"
      ]
     },
     "execution_count": 9,
     "metadata": {},
     "output_type": "execute_result"
    }
   ],
   "source": [
    "# Récupération des 4 tables souhaitées:\n",
    "feature.clear()\n",
    "tables = page.findAll('table', {'class' : 'vitals-table'})\n",
    "for table in tables[:4]:\n",
    "    for row in table.findAll({'tr'}) :\n",
    "        key = row.th.string\n",
    "        value = row.td.getText()\n",
    "        feature[key] = value\n",
    "feature"
   ]
  },
  {
   "cell_type": "code",
   "execution_count": 10,
   "metadata": {},
   "outputs": [],
   "source": [
    "# Fonction de récupération des caractéristiques pour un pokémon\n",
    "def get_features(url_pokemon):\n",
    "    feature = {}\n",
    "\n",
    "    req = Request(url_pokemon, headers={'User-Agent': 'Mozilla/5.0'})\n",
    "    html = urlopen(req).read().decode('utf-8')\n",
    "    page = bs4.BeautifulSoup(html, 'html.parser')\n",
    "\n",
    "    tables = page.findAll('table', {'class' : 'vitals-table'})\n",
    "    for table in tables[:4]:\n",
    "        for row in table.findAll({'tr'}) :\n",
    "            key = row.th.string\n",
    "            value = row.td.getText()\n",
    "            feature[key] = value\n",
    "    return feature"
   ]
  },
  {
   "cell_type": "code",
   "execution_count": 11,
   "metadata": {},
   "outputs": [
    {
     "data": {
      "text/plain": [
       "{'National №': '001',\n",
       " 'Type': '\\nGrass Poison ',\n",
       " 'Species': 'Seed Pokémon',\n",
       " 'Height': '0.7\\xa0m (2′04″)',\n",
       " 'Weight': '6.9\\xa0kg (15.2\\xa0lbs)',\n",
       " 'Abilities': '1. OvergrowChlorophyll (hidden ability)',\n",
       " 'Local №': \"001 (Red/Blue/Yellow)226 (Gold/Silver/Crystal)001 (FireRed/LeafGreen)231 (HeartGold/SoulSilver)080 (X/Y — Central Kalos)001 (Let's Go Pikachu/Let's Go Eevee)068 (The Isle of Armor)\",\n",
       " 'EV yield': '\\n1 Special Attack ',\n",
       " 'Catch rate': '\\n45 (5.9% with PokéBall, full HP)\\n',\n",
       " None: '\\n50 (normal)\\n',\n",
       " 'Base Exp.': '64',\n",
       " 'Growth Rate': 'Medium Slow',\n",
       " 'Egg Groups': 'Grass, Monster',\n",
       " 'Gender': '87.5% male, 12.5% female',\n",
       " 'Egg cycles': '20 (4,884–5,140 steps)\\n',\n",
       " 'HP': '45',\n",
       " 'Attack': '49',\n",
       " 'Defense': '49',\n",
       " 'Sp. Atk': '65',\n",
       " 'Sp. Def': '65',\n",
       " 'Speed': '45',\n",
       " 'Total': '318'}"
      ]
     },
     "execution_count": 11,
     "metadata": {},
     "output_type": "execute_result"
    }
   ],
   "source": [
    "get_features(\"https://pokemondb.net/pokedex/bulbasaur\")"
   ]
  },
  {
   "cell_type": "markdown",
   "metadata": {},
   "source": [
    "#### Récupération de la liste des pokemons"
   ]
  },
  {
   "cell_type": "code",
   "execution_count": 12,
   "metadata": {},
   "outputs": [],
   "source": [
    "# Récupération de la liste des pokemons et des liens vers leur page de caractéristiques\n",
    "# https://pokemondb.net/pokedex/all"
   ]
  },
  {
   "cell_type": "code",
   "execution_count": 13,
   "metadata": {},
   "outputs": [
    {
     "name": "stdout",
     "output_type": "stream",
     "text": [
      "<!DOCTYPE html>\n",
      "<html lang=\"en\">\n",
      "<head>\n",
      "<meta charset=\"utf-8\">\n",
      "<title>Pokémon Pokédex: list of Pokémon with stats | Pokémon Database</title>\n",
      "<link rel=\"preconnect\" href=\"https://img.pokemondb.net\">\n",
      "<style>@font-face{font-family:\"Fira Sans\";font-style:normal;font-weight:400;font-display:swap;src:url(\"/static/fonts/fira-sans-v10-latin-400.woff2\") format(\"woff2\");unicode-range:U+0000-00FF,U+0131,U+0152-0153,U+02BB-02BC,U+02C6,U+02DA,U+02DC,U+2000-206F,U+2074,U+20AC,U+2122,U+2191,U+2193,U+2212,U+2215,U+FEFF,U+FFFD}@font-face{font-family:\"Fira Sans\";font-style:italic;font-weight:400;font-display:swap;src:url(\"/static/fonts/fira-sans-v10-latin-400i.woff2\") format(\"woff2\");unicode-range:U+0000-00FF,U+0131,U+0152-0153,U+02BB-02BC,U+02C6,U+02DA,U+02DC,U+2000-206F,U+2074,U+20AC,U+2122,U+2191,U+2193,U+2212,U+2215,U+FEFF,U+FFFD}@font-face{font-family:\"Fira Sans\";font-style:normal;font-weight:700;font-display:swap;src:url(\"/static/fonts/fira-sans-v10-latin-600.woff2\") format(\"woff2\");unicode-range:\n"
     ]
    }
   ],
   "source": [
    "url_pokemons_list = \"https://pokemondb.net/pokedex/all\"\n",
    "\n",
    "req = Request(url_pokemons_list, headers={'User-Agent': 'Mozilla/5.0'})\n",
    "html = urlopen(req).read().decode('utf-8')\n",
    "print(html[:1000])\n",
    "page = bs4.BeautifulSoup(html, 'html.parser')"
   ]
  },
  {
   "cell_type": "code",
   "execution_count": 14,
   "metadata": {},
   "outputs": [
    {
     "name": "stdout",
     "output_type": "stream",
     "text": [
      "<a class=\"ent-name\" href=\"/pokedex/bulbasaur\" title=\"View Pokedex for #001 Bulbasaur\">Bulbasaur</a>\n",
      "<a class=\"ent-name\" href=\"/pokedex/ivysaur\" title=\"View Pokedex for #002 Ivysaur\">Ivysaur</a>\n",
      "<a class=\"ent-name\" href=\"/pokedex/venusaur\" title=\"View Pokedex for #003 Venusaur\">Venusaur</a>\n",
      "<a class=\"ent-name\" href=\"/pokedex/venusaur\" title=\"View Pokedex for #003 Venusaur\">Venusaur</a>\n",
      "<a class=\"ent-name\" href=\"/pokedex/charmander\" title=\"View Pokedex for #004 Charmander\">Charmander</a>\n",
      "<a class=\"ent-name\" href=\"/pokedex/charmeleon\" title=\"View Pokedex for #005 Charmeleon\">Charmeleon</a>\n",
      "<a class=\"ent-name\" href=\"/pokedex/charizard\" title=\"View Pokedex for #006 Charizard\">Charizard</a>\n",
      "<a class=\"ent-name\" href=\"/pokedex/charizard\" title=\"View Pokedex for #006 Charizard\">Charizard</a>\n",
      "<a class=\"ent-name\" href=\"/pokedex/charizard\" title=\"View Pokedex for #006 Charizard\">Charizard</a>\n",
      "<a class=\"ent-name\" href=\"/pokedex/squirtle\" title=\"View Pokedex for #007 Squirtle\">Squirtle</a>\n"
     ]
    }
   ],
   "source": [
    "# <table id=\"pokedex\" class=\"data-table block-wide\">\n",
    "table = page.find('table', id = 'pokedex')\n",
    "for item in table.findAll('a', {'class':'ent-name'})[:10]:\n",
    "    print(item)"
   ]
  },
  {
   "cell_type": "code",
   "execution_count": 15,
   "metadata": {},
   "outputs": [
    {
     "data": {
      "text/plain": [
       "898"
      ]
     },
     "execution_count": 15,
     "metadata": {},
     "output_type": "execute_result"
    }
   ],
   "source": [
    "pokemons = {}  # { name : url}\n",
    "table = page.find('table', id = 'pokedex')\n",
    "for item in table.findAll('a', {'class':'ent-name'}):\n",
    "    name = item.getText()\n",
    "    url = item.get(\"href\")\n",
    "    pokemons[name] = url\n",
    "len(pokemons)"
   ]
  },
  {
   "cell_type": "code",
   "execution_count": 16,
   "metadata": {},
   "outputs": [],
   "source": [
    "#pokemons"
   ]
  },
  {
   "cell_type": "code",
   "execution_count": 20,
   "metadata": {},
   "outputs": [],
   "source": [
    "#### Récupération des informations pour tous les pokemons\n",
    "infos = {}  # { pokemon name : features }\n",
    "\n",
    "\n",
    "# Dictionnaire allégé pour simplifier l'accès au site\n",
    "# >>>\n",
    "keys_to_extract = ['Bulbasaur', 'Ivysaur', 'Venusaur', 'Charmander']\n",
    "pokemons_light = {key: pokemons[key] for key in keys_to_extract}\n",
    "pokemons = pokemons_light\n",
    "# <<<\n",
    "\n",
    "for name, end_of_url in pokemons.items():\n",
    "    url_pokemon = \"https://pokemondb.net\" + end_of_url\n",
    "    infos[name] = get_features(url_pokemon)"
   ]
  },
  {
   "cell_type": "code",
   "execution_count": 21,
   "metadata": {},
   "outputs": [
    {
     "data": {
      "text/plain": [
       "[('Bulbasaur',\n",
       "  {'National №': '001',\n",
       "   'Type': '\\nGrass Poison ',\n",
       "   'Species': 'Seed Pokémon',\n",
       "   'Height': '0.7\\xa0m (2′04″)',\n",
       "   'Weight': '6.9\\xa0kg (15.2\\xa0lbs)',\n",
       "   'Abilities': '1. OvergrowChlorophyll (hidden ability)',\n",
       "   'Local №': \"001 (Red/Blue/Yellow)226 (Gold/Silver/Crystal)001 (FireRed/LeafGreen)231 (HeartGold/SoulSilver)080 (X/Y — Central Kalos)001 (Let's Go Pikachu/Let's Go Eevee)068 (The Isle of Armor)\",\n",
       "   'EV yield': '\\n1 Special Attack ',\n",
       "   'Catch rate': '\\n45 (5.9% with PokéBall, full HP)\\n',\n",
       "   None: '\\n50 (normal)\\n',\n",
       "   'Base Exp.': '64',\n",
       "   'Growth Rate': 'Medium Slow',\n",
       "   'Egg Groups': 'Grass, Monster',\n",
       "   'Gender': '87.5% male, 12.5% female',\n",
       "   'Egg cycles': '20 (4,884–5,140 steps)\\n',\n",
       "   'HP': '45',\n",
       "   'Attack': '49',\n",
       "   'Defense': '49',\n",
       "   'Sp. Atk': '65',\n",
       "   'Sp. Def': '65',\n",
       "   'Speed': '45',\n",
       "   'Total': '318'}),\n",
       " ('Ivysaur',\n",
       "  {'National №': '002',\n",
       "   'Type': '\\nGrass Poison ',\n",
       "   'Species': 'Seed Pokémon',\n",
       "   'Height': '1.0\\xa0m (3′03″)',\n",
       "   'Weight': '13.0\\xa0kg (28.7\\xa0lbs)',\n",
       "   'Abilities': '1. OvergrowChlorophyll (hidden ability)',\n",
       "   'Local №': \"002 (Red/Blue/Yellow)227 (Gold/Silver/Crystal)002 (FireRed/LeafGreen)232 (HeartGold/SoulSilver)081 (X/Y — Central Kalos)002 (Let's Go Pikachu/Let's Go Eevee)069 (The Isle of Armor)\",\n",
       "   'EV yield': '\\n1 Special Attack, 1 Special Defense ',\n",
       "   'Catch rate': '\\n45 (5.9% with PokéBall, full HP)\\n',\n",
       "   None: '\\n50 (normal)\\n',\n",
       "   'Base Exp.': '142',\n",
       "   'Growth Rate': 'Medium Slow',\n",
       "   'Egg Groups': 'Grass, Monster',\n",
       "   'Gender': '87.5% male, 12.5% female',\n",
       "   'Egg cycles': '20 (4,884–5,140 steps)\\n',\n",
       "   'HP': '60',\n",
       "   'Attack': '62',\n",
       "   'Defense': '63',\n",
       "   'Sp. Atk': '80',\n",
       "   'Sp. Def': '80',\n",
       "   'Speed': '60',\n",
       "   'Total': '405'})]"
      ]
     },
     "execution_count": 21,
     "metadata": {},
     "output_type": "execute_result"
    }
   ],
   "source": [
    "# Affichage de deux éléments du dictionnaire\n",
    "# { nom du pokemon : {nom de la caractéristique: valeur}\n",
    "#   }\n",
    "list(infos.items())[0:2]"
   ]
  },
  {
   "cell_type": "markdown",
   "metadata": {},
   "source": [
    "#### Stockage dans un dataframe\n",
    "On voit que le contenu contient pas mal de caractères spéciaux qui pourraient être nettoyés."
   ]
  },
  {
   "cell_type": "code",
   "execution_count": 22,
   "metadata": {},
   "outputs": [
    {
     "data": {
      "text/html": [
       "<div>\n",
       "<style scoped>\n",
       "    .dataframe tbody tr th:only-of-type {\n",
       "        vertical-align: middle;\n",
       "    }\n",
       "\n",
       "    .dataframe tbody tr th {\n",
       "        vertical-align: top;\n",
       "    }\n",
       "\n",
       "    .dataframe thead th {\n",
       "        text-align: right;\n",
       "    }\n",
       "</style>\n",
       "<table border=\"1\" class=\"dataframe\">\n",
       "  <thead>\n",
       "    <tr style=\"text-align: right;\">\n",
       "      <th></th>\n",
       "      <th>National №</th>\n",
       "      <th>Type</th>\n",
       "      <th>Species</th>\n",
       "      <th>Height</th>\n",
       "      <th>Weight</th>\n",
       "      <th>Abilities</th>\n",
       "      <th>Local №</th>\n",
       "      <th>EV yield</th>\n",
       "      <th>Catch rate</th>\n",
       "      <th>NaN</th>\n",
       "      <th>...</th>\n",
       "      <th>Egg Groups</th>\n",
       "      <th>Gender</th>\n",
       "      <th>Egg cycles</th>\n",
       "      <th>HP</th>\n",
       "      <th>Attack</th>\n",
       "      <th>Defense</th>\n",
       "      <th>Sp. Atk</th>\n",
       "      <th>Sp. Def</th>\n",
       "      <th>Speed</th>\n",
       "      <th>Total</th>\n",
       "    </tr>\n",
       "  </thead>\n",
       "  <tbody>\n",
       "    <tr>\n",
       "      <th>Bulbasaur</th>\n",
       "      <td>001</td>\n",
       "      <td>\\nGrass Poison</td>\n",
       "      <td>Seed Pokémon</td>\n",
       "      <td>0.7 m (2′04″)</td>\n",
       "      <td>6.9 kg (15.2 lbs)</td>\n",
       "      <td>1. OvergrowChlorophyll (hidden ability)</td>\n",
       "      <td>001 (Red/Blue/Yellow)226 (Gold/Silver/Crystal)...</td>\n",
       "      <td>\\n1 Special Attack</td>\n",
       "      <td>\\n45 (5.9% with PokéBall, full HP)\\n</td>\n",
       "      <td>\\n50 (normal)\\n</td>\n",
       "      <td>...</td>\n",
       "      <td>Grass, Monster</td>\n",
       "      <td>87.5% male, 12.5% female</td>\n",
       "      <td>20 (4,884–5,140 steps)\\n</td>\n",
       "      <td>45</td>\n",
       "      <td>49</td>\n",
       "      <td>49</td>\n",
       "      <td>65</td>\n",
       "      <td>65</td>\n",
       "      <td>45</td>\n",
       "      <td>318</td>\n",
       "    </tr>\n",
       "    <tr>\n",
       "      <th>Ivysaur</th>\n",
       "      <td>002</td>\n",
       "      <td>\\nGrass Poison</td>\n",
       "      <td>Seed Pokémon</td>\n",
       "      <td>1.0 m (3′03″)</td>\n",
       "      <td>13.0 kg (28.7 lbs)</td>\n",
       "      <td>1. OvergrowChlorophyll (hidden ability)</td>\n",
       "      <td>002 (Red/Blue/Yellow)227 (Gold/Silver/Crystal)...</td>\n",
       "      <td>\\n1 Special Attack, 1 Special Defense</td>\n",
       "      <td>\\n45 (5.9% with PokéBall, full HP)\\n</td>\n",
       "      <td>\\n50 (normal)\\n</td>\n",
       "      <td>...</td>\n",
       "      <td>Grass, Monster</td>\n",
       "      <td>87.5% male, 12.5% female</td>\n",
       "      <td>20 (4,884–5,140 steps)\\n</td>\n",
       "      <td>60</td>\n",
       "      <td>62</td>\n",
       "      <td>63</td>\n",
       "      <td>80</td>\n",
       "      <td>80</td>\n",
       "      <td>60</td>\n",
       "      <td>405</td>\n",
       "    </tr>\n",
       "    <tr>\n",
       "      <th>Venusaur</th>\n",
       "      <td>003</td>\n",
       "      <td>\\nGrass Poison</td>\n",
       "      <td>Seed Pokémon</td>\n",
       "      <td>2.0 m (6′07″)</td>\n",
       "      <td>100.0 kg (220.5 lbs)</td>\n",
       "      <td>1. OvergrowChlorophyll (hidden ability)</td>\n",
       "      <td>003 (Red/Blue/Yellow)228 (Gold/Silver/Crystal)...</td>\n",
       "      <td>\\n2 Special Attack, 1 Special Defense</td>\n",
       "      <td>\\n45 (5.9% with PokéBall, full HP)\\n</td>\n",
       "      <td>\\n50 (normal)\\n</td>\n",
       "      <td>...</td>\n",
       "      <td>Grass, Monster</td>\n",
       "      <td>87.5% male, 12.5% female</td>\n",
       "      <td>20 (4,884–5,140 steps)\\n</td>\n",
       "      <td>80</td>\n",
       "      <td>82</td>\n",
       "      <td>83</td>\n",
       "      <td>100</td>\n",
       "      <td>100</td>\n",
       "      <td>80</td>\n",
       "      <td>525</td>\n",
       "    </tr>\n",
       "    <tr>\n",
       "      <th>Charmander</th>\n",
       "      <td>004</td>\n",
       "      <td>\\nFire</td>\n",
       "      <td>Lizard Pokémon</td>\n",
       "      <td>0.6 m (2′00″)</td>\n",
       "      <td>8.5 kg (18.7 lbs)</td>\n",
       "      <td>1. BlazeSolar Power (hidden ability)</td>\n",
       "      <td>004 (Red/Blue/Yellow)229 (Gold/Silver/Crystal)...</td>\n",
       "      <td>\\n1 Speed</td>\n",
       "      <td>\\n45 (5.9% with PokéBall, full HP)\\n</td>\n",
       "      <td>\\n50 (normal)\\n</td>\n",
       "      <td>...</td>\n",
       "      <td>Dragon, Monster</td>\n",
       "      <td>87.5% male, 12.5% female</td>\n",
       "      <td>20 (4,884–5,140 steps)\\n</td>\n",
       "      <td>39</td>\n",
       "      <td>52</td>\n",
       "      <td>43</td>\n",
       "      <td>60</td>\n",
       "      <td>50</td>\n",
       "      <td>65</td>\n",
       "      <td>309</td>\n",
       "    </tr>\n",
       "  </tbody>\n",
       "</table>\n",
       "<p>4 rows × 22 columns</p>\n",
       "</div>"
      ],
      "text/plain": [
       "           National №             Type         Species         Height  \\\n",
       "Bulbasaur         001  \\nGrass Poison     Seed Pokémon  0.7 m (2′04″)   \n",
       "Ivysaur           002  \\nGrass Poison     Seed Pokémon  1.0 m (3′03″)   \n",
       "Venusaur          003  \\nGrass Poison     Seed Pokémon  2.0 m (6′07″)   \n",
       "Charmander        004          \\nFire   Lizard Pokémon  0.6 m (2′00″)   \n",
       "\n",
       "                          Weight                                Abilities  \\\n",
       "Bulbasaur      6.9 kg (15.2 lbs)  1. OvergrowChlorophyll (hidden ability)   \n",
       "Ivysaur       13.0 kg (28.7 lbs)  1. OvergrowChlorophyll (hidden ability)   \n",
       "Venusaur    100.0 kg (220.5 lbs)  1. OvergrowChlorophyll (hidden ability)   \n",
       "Charmander     8.5 kg (18.7 lbs)     1. BlazeSolar Power (hidden ability)   \n",
       "\n",
       "                                                      Local №  \\\n",
       "Bulbasaur   001 (Red/Blue/Yellow)226 (Gold/Silver/Crystal)...   \n",
       "Ivysaur     002 (Red/Blue/Yellow)227 (Gold/Silver/Crystal)...   \n",
       "Venusaur    003 (Red/Blue/Yellow)228 (Gold/Silver/Crystal)...   \n",
       "Charmander  004 (Red/Blue/Yellow)229 (Gold/Silver/Crystal)...   \n",
       "\n",
       "                                          EV yield  \\\n",
       "Bulbasaur                      \\n1 Special Attack    \n",
       "Ivysaur     \\n1 Special Attack, 1 Special Defense    \n",
       "Venusaur    \\n2 Special Attack, 1 Special Defense    \n",
       "Charmander                              \\n1 Speed    \n",
       "\n",
       "                                      Catch rate              NaN  ...  \\\n",
       "Bulbasaur   \\n45 (5.9% with PokéBall, full HP)\\n  \\n50 (normal)\\n  ...   \n",
       "Ivysaur     \\n45 (5.9% with PokéBall, full HP)\\n  \\n50 (normal)\\n  ...   \n",
       "Venusaur    \\n45 (5.9% with PokéBall, full HP)\\n  \\n50 (normal)\\n  ...   \n",
       "Charmander  \\n45 (5.9% with PokéBall, full HP)\\n  \\n50 (normal)\\n  ...   \n",
       "\n",
       "                 Egg Groups                    Gender  \\\n",
       "Bulbasaur    Grass, Monster  87.5% male, 12.5% female   \n",
       "Ivysaur      Grass, Monster  87.5% male, 12.5% female   \n",
       "Venusaur     Grass, Monster  87.5% male, 12.5% female   \n",
       "Charmander  Dragon, Monster  87.5% male, 12.5% female   \n",
       "\n",
       "                          Egg cycles  HP Attack Defense Sp. Atk Sp. Def Speed  \\\n",
       "Bulbasaur   20 (4,884–5,140 steps)\\n  45     49      49      65      65    45   \n",
       "Ivysaur     20 (4,884–5,140 steps)\\n  60     62      63      80      80    60   \n",
       "Venusaur    20 (4,884–5,140 steps)\\n  80     82      83     100     100    80   \n",
       "Charmander  20 (4,884–5,140 steps)\\n  39     52      43      60      50    65   \n",
       "\n",
       "           Total  \n",
       "Bulbasaur    318  \n",
       "Ivysaur      405  \n",
       "Venusaur     525  \n",
       "Charmander   309  \n",
       "\n",
       "[4 rows x 22 columns]"
      ]
     },
     "execution_count": 22,
     "metadata": {},
     "output_type": "execute_result"
    }
   ],
   "source": [
    "import pandas as pd\n",
    "df = pd.DataFrame(infos).T\n",
    "df.head()"
   ]
  },
  {
   "cell_type": "markdown",
   "metadata": {},
   "source": [
    "#### Récupération des images de chacun des pokémons et enregistrement dans un dossier"
   ]
  },
  {
   "cell_type": "code",
   "execution_count": 23,
   "metadata": {},
   "outputs": [
    {
     "data": {
      "text/plain": [
       "['https://img.pokemondb.net/sprites/sword-shield/icon/bulbasaur.png',\n",
       " 'https://img.pokemondb.net/sprites/sword-shield/icon/ivysaur.png',\n",
       " 'https://img.pokemondb.net/sprites/sword-shield/icon/venusaur.png',\n",
       " 'https://img.pokemondb.net/sprites/sword-shield/icon/venusaur-mega.png',\n",
       " 'https://img.pokemondb.net/sprites/sword-shield/icon/charmander.png',\n",
       " 'https://img.pokemondb.net/sprites/sword-shield/icon/charmeleon.png',\n",
       " 'https://img.pokemondb.net/sprites/sword-shield/icon/charizard.png',\n",
       " 'https://img.pokemondb.net/sprites/sword-shield/icon/charizard-mega-x.png',\n",
       " 'https://img.pokemondb.net/sprites/sword-shield/icon/charizard-mega-y.png',\n",
       " 'https://img.pokemondb.net/sprites/sword-shield/icon/squirtle.png']"
      ]
     },
     "execution_count": 23,
     "metadata": {},
     "output_type": "execute_result"
    }
   ],
   "source": [
    "# Liste des url des images\n",
    "url_pokemons_list = \"https://pokemondb.net/pokedex/all\"\n",
    "icon_url_list = []  # Liste des url des images de pokemons (sous forme d'icônes)\n",
    "\n",
    "req = Request(url_pokemons_list, headers={'User-Agent': 'Mozilla/5.0'})\n",
    "html = urlopen(req).read().decode('utf-8')\n",
    "page = bs4.BeautifulSoup(html, 'html.parser')\n",
    "\n",
    "table = page.find('table', id = 'pokedex')\n",
    "for item in table.findAll('span', {'class':'img-fixed icon-pkmn'}):\n",
    "    icon_url_list.append(item.get(\"data-src\"))\n",
    "icon_url_list[:10]"
   ]
  },
  {
   "cell_type": "markdown",
   "metadata": {},
   "source": [
    "How to Download an Image Using Python : https://towardsdatascience.com/how-to-download-an-image-using-python-38a75cfa21c"
   ]
  },
  {
   "cell_type": "code",
   "execution_count": 24,
   "metadata": {},
   "outputs": [
    {
     "name": "stdout",
     "output_type": "stream",
     "text": [
      "Image sucessfully Downloaded:  bulbasaur.png\n"
     ]
    }
   ],
   "source": [
    "## Importing Necessary Modules\n",
    "import requests # to get image from the web\n",
    "import shutil # to save it locally\n",
    "\n",
    "## Set up the image URL and filename\n",
    "image_url = \"https://img.pokemondb.net/sprites/sword-shield/icon/bulbasaur.png\"\n",
    "filename = image_url.split(\"/\")[-1]\n",
    "\n",
    "# Open the url image, set stream to True, this will return the stream content.\n",
    "r = requests.get(image_url, stream = True)\n",
    "\n",
    "# Check if the image was retrieved successfully\n",
    "if r.status_code == 200:\n",
    "    # Set decode_content value to True, otherwise the downloaded image file's size will be zero.\n",
    "    r.raw.decode_content = True\n",
    "    \n",
    "    # Open a local file with wb ( write binary ) permission.\n",
    "    with open(filename,'wb') as f:\n",
    "        shutil.copyfileobj(r.raw, f)\n",
    "        \n",
    "    print('Image sucessfully Downloaded: ',filename)\n",
    "else:\n",
    "    print('Image Couldn\\'t be retreived')"
   ]
  },
  {
   "cell_type": "markdown",
   "metadata": {},
   "source": [
    "Enregistrement de toutes les images dans un dossier `icon` dans le répertoire courant"
   ]
  },
  {
   "cell_type": "code",
   "execution_count": 25,
   "metadata": {
    "collapsed": true,
    "jupyter": {
     "outputs_hidden": true
    }
   },
   "outputs": [
    {
     "ename": "KeyboardInterrupt",
     "evalue": "",
     "output_type": "error",
     "traceback": [
      "\u001b[0;31m---------------------------------------------------------------------------\u001b[0m",
      "\u001b[0;31mKeyboardInterrupt\u001b[0m                         Traceback (most recent call last)",
      "\u001b[0;32m<ipython-input-25-0167d0bd01f7>\u001b[0m in \u001b[0;36m<module>\u001b[0;34m\u001b[0m\n\u001b[1;32m      9\u001b[0m \u001b[0;34m\u001b[0m\u001b[0m\n\u001b[1;32m     10\u001b[0m     \u001b[0;31m# Open the url image, set stream to True, this will return the stream content.\u001b[0m\u001b[0;34m\u001b[0m\u001b[0;34m\u001b[0m\u001b[0;34m\u001b[0m\u001b[0m\n\u001b[0;32m---> 11\u001b[0;31m     \u001b[0mr\u001b[0m \u001b[0;34m=\u001b[0m \u001b[0mrequests\u001b[0m\u001b[0;34m.\u001b[0m\u001b[0mget\u001b[0m\u001b[0;34m(\u001b[0m\u001b[0micon_url\u001b[0m\u001b[0;34m,\u001b[0m \u001b[0mstream\u001b[0m \u001b[0;34m=\u001b[0m \u001b[0;32mTrue\u001b[0m\u001b[0;34m)\u001b[0m\u001b[0;34m\u001b[0m\u001b[0;34m\u001b[0m\u001b[0m\n\u001b[0m\u001b[1;32m     12\u001b[0m \u001b[0;34m\u001b[0m\u001b[0m\n\u001b[1;32m     13\u001b[0m     \u001b[0;31m# Check if the image was retrieved successfully\u001b[0m\u001b[0;34m\u001b[0m\u001b[0;34m\u001b[0m\u001b[0;34m\u001b[0m\u001b[0m\n",
      "\u001b[0;32m~/opt/anaconda3/lib/python3.7/site-packages/requests/api.py\u001b[0m in \u001b[0;36mget\u001b[0;34m(url, params, **kwargs)\u001b[0m\n\u001b[1;32m     74\u001b[0m \u001b[0;34m\u001b[0m\u001b[0m\n\u001b[1;32m     75\u001b[0m     \u001b[0mkwargs\u001b[0m\u001b[0;34m.\u001b[0m\u001b[0msetdefault\u001b[0m\u001b[0;34m(\u001b[0m\u001b[0;34m'allow_redirects'\u001b[0m\u001b[0;34m,\u001b[0m \u001b[0;32mTrue\u001b[0m\u001b[0;34m)\u001b[0m\u001b[0;34m\u001b[0m\u001b[0;34m\u001b[0m\u001b[0m\n\u001b[0;32m---> 76\u001b[0;31m     \u001b[0;32mreturn\u001b[0m \u001b[0mrequest\u001b[0m\u001b[0;34m(\u001b[0m\u001b[0;34m'get'\u001b[0m\u001b[0;34m,\u001b[0m \u001b[0murl\u001b[0m\u001b[0;34m,\u001b[0m \u001b[0mparams\u001b[0m\u001b[0;34m=\u001b[0m\u001b[0mparams\u001b[0m\u001b[0;34m,\u001b[0m \u001b[0;34m**\u001b[0m\u001b[0mkwargs\u001b[0m\u001b[0;34m)\u001b[0m\u001b[0;34m\u001b[0m\u001b[0;34m\u001b[0m\u001b[0m\n\u001b[0m\u001b[1;32m     77\u001b[0m \u001b[0;34m\u001b[0m\u001b[0m\n\u001b[1;32m     78\u001b[0m \u001b[0;34m\u001b[0m\u001b[0m\n",
      "\u001b[0;32m~/opt/anaconda3/lib/python3.7/site-packages/requests/api.py\u001b[0m in \u001b[0;36mrequest\u001b[0;34m(method, url, **kwargs)\u001b[0m\n\u001b[1;32m     59\u001b[0m     \u001b[0;31m# cases, and look like a memory leak in others.\u001b[0m\u001b[0;34m\u001b[0m\u001b[0;34m\u001b[0m\u001b[0;34m\u001b[0m\u001b[0m\n\u001b[1;32m     60\u001b[0m     \u001b[0;32mwith\u001b[0m \u001b[0msessions\u001b[0m\u001b[0;34m.\u001b[0m\u001b[0mSession\u001b[0m\u001b[0;34m(\u001b[0m\u001b[0;34m)\u001b[0m \u001b[0;32mas\u001b[0m \u001b[0msession\u001b[0m\u001b[0;34m:\u001b[0m\u001b[0;34m\u001b[0m\u001b[0;34m\u001b[0m\u001b[0m\n\u001b[0;32m---> 61\u001b[0;31m         \u001b[0;32mreturn\u001b[0m \u001b[0msession\u001b[0m\u001b[0;34m.\u001b[0m\u001b[0mrequest\u001b[0m\u001b[0;34m(\u001b[0m\u001b[0mmethod\u001b[0m\u001b[0;34m=\u001b[0m\u001b[0mmethod\u001b[0m\u001b[0;34m,\u001b[0m \u001b[0murl\u001b[0m\u001b[0;34m=\u001b[0m\u001b[0murl\u001b[0m\u001b[0;34m,\u001b[0m \u001b[0;34m**\u001b[0m\u001b[0mkwargs\u001b[0m\u001b[0;34m)\u001b[0m\u001b[0;34m\u001b[0m\u001b[0;34m\u001b[0m\u001b[0m\n\u001b[0m\u001b[1;32m     62\u001b[0m \u001b[0;34m\u001b[0m\u001b[0m\n\u001b[1;32m     63\u001b[0m \u001b[0;34m\u001b[0m\u001b[0m\n",
      "\u001b[0;32m~/opt/anaconda3/lib/python3.7/site-packages/requests/sessions.py\u001b[0m in \u001b[0;36mrequest\u001b[0;34m(self, method, url, params, data, headers, cookies, files, auth, timeout, allow_redirects, proxies, hooks, stream, verify, cert, json)\u001b[0m\n\u001b[1;32m    540\u001b[0m         }\n\u001b[1;32m    541\u001b[0m         \u001b[0msend_kwargs\u001b[0m\u001b[0;34m.\u001b[0m\u001b[0mupdate\u001b[0m\u001b[0;34m(\u001b[0m\u001b[0msettings\u001b[0m\u001b[0;34m)\u001b[0m\u001b[0;34m\u001b[0m\u001b[0;34m\u001b[0m\u001b[0m\n\u001b[0;32m--> 542\u001b[0;31m         \u001b[0mresp\u001b[0m \u001b[0;34m=\u001b[0m \u001b[0mself\u001b[0m\u001b[0;34m.\u001b[0m\u001b[0msend\u001b[0m\u001b[0;34m(\u001b[0m\u001b[0mprep\u001b[0m\u001b[0;34m,\u001b[0m \u001b[0;34m**\u001b[0m\u001b[0msend_kwargs\u001b[0m\u001b[0;34m)\u001b[0m\u001b[0;34m\u001b[0m\u001b[0;34m\u001b[0m\u001b[0m\n\u001b[0m\u001b[1;32m    543\u001b[0m \u001b[0;34m\u001b[0m\u001b[0m\n\u001b[1;32m    544\u001b[0m         \u001b[0;32mreturn\u001b[0m \u001b[0mresp\u001b[0m\u001b[0;34m\u001b[0m\u001b[0;34m\u001b[0m\u001b[0m\n",
      "\u001b[0;32m~/opt/anaconda3/lib/python3.7/site-packages/requests/sessions.py\u001b[0m in \u001b[0;36msend\u001b[0;34m(self, request, **kwargs)\u001b[0m\n\u001b[1;32m    653\u001b[0m \u001b[0;34m\u001b[0m\u001b[0m\n\u001b[1;32m    654\u001b[0m         \u001b[0;31m# Send the request\u001b[0m\u001b[0;34m\u001b[0m\u001b[0;34m\u001b[0m\u001b[0;34m\u001b[0m\u001b[0m\n\u001b[0;32m--> 655\u001b[0;31m         \u001b[0mr\u001b[0m \u001b[0;34m=\u001b[0m \u001b[0madapter\u001b[0m\u001b[0;34m.\u001b[0m\u001b[0msend\u001b[0m\u001b[0;34m(\u001b[0m\u001b[0mrequest\u001b[0m\u001b[0;34m,\u001b[0m \u001b[0;34m**\u001b[0m\u001b[0mkwargs\u001b[0m\u001b[0;34m)\u001b[0m\u001b[0;34m\u001b[0m\u001b[0;34m\u001b[0m\u001b[0m\n\u001b[0m\u001b[1;32m    656\u001b[0m \u001b[0;34m\u001b[0m\u001b[0m\n\u001b[1;32m    657\u001b[0m         \u001b[0;31m# Total elapsed time of the request (approximately)\u001b[0m\u001b[0;34m\u001b[0m\u001b[0;34m\u001b[0m\u001b[0;34m\u001b[0m\u001b[0m\n",
      "\u001b[0;32m~/opt/anaconda3/lib/python3.7/site-packages/requests/adapters.py\u001b[0m in \u001b[0;36msend\u001b[0;34m(self, request, stream, timeout, verify, cert, proxies)\u001b[0m\n\u001b[1;32m    447\u001b[0m                     \u001b[0mdecode_content\u001b[0m\u001b[0;34m=\u001b[0m\u001b[0;32mFalse\u001b[0m\u001b[0;34m,\u001b[0m\u001b[0;34m\u001b[0m\u001b[0;34m\u001b[0m\u001b[0m\n\u001b[1;32m    448\u001b[0m                     \u001b[0mretries\u001b[0m\u001b[0;34m=\u001b[0m\u001b[0mself\u001b[0m\u001b[0;34m.\u001b[0m\u001b[0mmax_retries\u001b[0m\u001b[0;34m,\u001b[0m\u001b[0;34m\u001b[0m\u001b[0;34m\u001b[0m\u001b[0m\n\u001b[0;32m--> 449\u001b[0;31m                     \u001b[0mtimeout\u001b[0m\u001b[0;34m=\u001b[0m\u001b[0mtimeout\u001b[0m\u001b[0;34m\u001b[0m\u001b[0;34m\u001b[0m\u001b[0m\n\u001b[0m\u001b[1;32m    450\u001b[0m                 )\n\u001b[1;32m    451\u001b[0m \u001b[0;34m\u001b[0m\u001b[0m\n",
      "\u001b[0;32m~/opt/anaconda3/lib/python3.7/site-packages/urllib3/connectionpool.py\u001b[0m in \u001b[0;36murlopen\u001b[0;34m(self, method, url, body, headers, retries, redirect, assert_same_host, timeout, pool_timeout, release_conn, chunked, body_pos, **response_kw)\u001b[0m\n\u001b[1;32m    704\u001b[0m                 \u001b[0mbody\u001b[0m\u001b[0;34m=\u001b[0m\u001b[0mbody\u001b[0m\u001b[0;34m,\u001b[0m\u001b[0;34m\u001b[0m\u001b[0;34m\u001b[0m\u001b[0m\n\u001b[1;32m    705\u001b[0m                 \u001b[0mheaders\u001b[0m\u001b[0;34m=\u001b[0m\u001b[0mheaders\u001b[0m\u001b[0;34m,\u001b[0m\u001b[0;34m\u001b[0m\u001b[0;34m\u001b[0m\u001b[0m\n\u001b[0;32m--> 706\u001b[0;31m                 \u001b[0mchunked\u001b[0m\u001b[0;34m=\u001b[0m\u001b[0mchunked\u001b[0m\u001b[0;34m,\u001b[0m\u001b[0;34m\u001b[0m\u001b[0;34m\u001b[0m\u001b[0m\n\u001b[0m\u001b[1;32m    707\u001b[0m             )\n\u001b[1;32m    708\u001b[0m \u001b[0;34m\u001b[0m\u001b[0m\n",
      "\u001b[0;32m~/opt/anaconda3/lib/python3.7/site-packages/urllib3/connectionpool.py\u001b[0m in \u001b[0;36m_make_request\u001b[0;34m(self, conn, method, url, timeout, chunked, **httplib_request_kw)\u001b[0m\n\u001b[1;32m    443\u001b[0m                     \u001b[0;31m# Python 3 (including for exceptions like SystemExit).\u001b[0m\u001b[0;34m\u001b[0m\u001b[0;34m\u001b[0m\u001b[0;34m\u001b[0m\u001b[0m\n\u001b[1;32m    444\u001b[0m                     \u001b[0;31m# Otherwise it looks like a bug in the code.\u001b[0m\u001b[0;34m\u001b[0m\u001b[0;34m\u001b[0m\u001b[0;34m\u001b[0m\u001b[0m\n\u001b[0;32m--> 445\u001b[0;31m                     \u001b[0msix\u001b[0m\u001b[0;34m.\u001b[0m\u001b[0mraise_from\u001b[0m\u001b[0;34m(\u001b[0m\u001b[0me\u001b[0m\u001b[0;34m,\u001b[0m \u001b[0;32mNone\u001b[0m\u001b[0;34m)\u001b[0m\u001b[0;34m\u001b[0m\u001b[0;34m\u001b[0m\u001b[0m\n\u001b[0m\u001b[1;32m    446\u001b[0m         \u001b[0;32mexcept\u001b[0m \u001b[0;34m(\u001b[0m\u001b[0mSocketTimeout\u001b[0m\u001b[0;34m,\u001b[0m \u001b[0mBaseSSLError\u001b[0m\u001b[0;34m,\u001b[0m \u001b[0mSocketError\u001b[0m\u001b[0;34m)\u001b[0m \u001b[0;32mas\u001b[0m \u001b[0me\u001b[0m\u001b[0;34m:\u001b[0m\u001b[0;34m\u001b[0m\u001b[0;34m\u001b[0m\u001b[0m\n\u001b[1;32m    447\u001b[0m             \u001b[0mself\u001b[0m\u001b[0;34m.\u001b[0m\u001b[0m_raise_timeout\u001b[0m\u001b[0;34m(\u001b[0m\u001b[0merr\u001b[0m\u001b[0;34m=\u001b[0m\u001b[0me\u001b[0m\u001b[0;34m,\u001b[0m \u001b[0murl\u001b[0m\u001b[0;34m=\u001b[0m\u001b[0murl\u001b[0m\u001b[0;34m,\u001b[0m \u001b[0mtimeout_value\u001b[0m\u001b[0;34m=\u001b[0m\u001b[0mread_timeout\u001b[0m\u001b[0;34m)\u001b[0m\u001b[0;34m\u001b[0m\u001b[0;34m\u001b[0m\u001b[0m\n",
      "\u001b[0;32m~/opt/anaconda3/lib/python3.7/site-packages/urllib3/packages/six.py\u001b[0m in \u001b[0;36mraise_from\u001b[0;34m(value, from_value)\u001b[0m\n",
      "\u001b[0;32m~/opt/anaconda3/lib/python3.7/site-packages/urllib3/connectionpool.py\u001b[0m in \u001b[0;36m_make_request\u001b[0;34m(self, conn, method, url, timeout, chunked, **httplib_request_kw)\u001b[0m\n\u001b[1;32m    438\u001b[0m                 \u001b[0;31m# Python 3\u001b[0m\u001b[0;34m\u001b[0m\u001b[0;34m\u001b[0m\u001b[0;34m\u001b[0m\u001b[0m\n\u001b[1;32m    439\u001b[0m                 \u001b[0;32mtry\u001b[0m\u001b[0;34m:\u001b[0m\u001b[0;34m\u001b[0m\u001b[0;34m\u001b[0m\u001b[0m\n\u001b[0;32m--> 440\u001b[0;31m                     \u001b[0mhttplib_response\u001b[0m \u001b[0;34m=\u001b[0m \u001b[0mconn\u001b[0m\u001b[0;34m.\u001b[0m\u001b[0mgetresponse\u001b[0m\u001b[0;34m(\u001b[0m\u001b[0;34m)\u001b[0m\u001b[0;34m\u001b[0m\u001b[0;34m\u001b[0m\u001b[0m\n\u001b[0m\u001b[1;32m    441\u001b[0m                 \u001b[0;32mexcept\u001b[0m \u001b[0mBaseException\u001b[0m \u001b[0;32mas\u001b[0m \u001b[0me\u001b[0m\u001b[0;34m:\u001b[0m\u001b[0;34m\u001b[0m\u001b[0;34m\u001b[0m\u001b[0m\n\u001b[1;32m    442\u001b[0m                     \u001b[0;31m# Remove the TypeError from the exception chain in\u001b[0m\u001b[0;34m\u001b[0m\u001b[0;34m\u001b[0m\u001b[0;34m\u001b[0m\u001b[0m\n",
      "\u001b[0;32m~/opt/anaconda3/lib/python3.7/http/client.py\u001b[0m in \u001b[0;36mgetresponse\u001b[0;34m(self)\u001b[0m\n\u001b[1;32m   1334\u001b[0m         \u001b[0;32mtry\u001b[0m\u001b[0;34m:\u001b[0m\u001b[0;34m\u001b[0m\u001b[0;34m\u001b[0m\u001b[0m\n\u001b[1;32m   1335\u001b[0m             \u001b[0;32mtry\u001b[0m\u001b[0;34m:\u001b[0m\u001b[0;34m\u001b[0m\u001b[0;34m\u001b[0m\u001b[0m\n\u001b[0;32m-> 1336\u001b[0;31m                 \u001b[0mresponse\u001b[0m\u001b[0;34m.\u001b[0m\u001b[0mbegin\u001b[0m\u001b[0;34m(\u001b[0m\u001b[0;34m)\u001b[0m\u001b[0;34m\u001b[0m\u001b[0;34m\u001b[0m\u001b[0m\n\u001b[0m\u001b[1;32m   1337\u001b[0m             \u001b[0;32mexcept\u001b[0m \u001b[0mConnectionError\u001b[0m\u001b[0;34m:\u001b[0m\u001b[0;34m\u001b[0m\u001b[0;34m\u001b[0m\u001b[0m\n\u001b[1;32m   1338\u001b[0m                 \u001b[0mself\u001b[0m\u001b[0;34m.\u001b[0m\u001b[0mclose\u001b[0m\u001b[0;34m(\u001b[0m\u001b[0;34m)\u001b[0m\u001b[0;34m\u001b[0m\u001b[0;34m\u001b[0m\u001b[0m\n",
      "\u001b[0;32m~/opt/anaconda3/lib/python3.7/http/client.py\u001b[0m in \u001b[0;36mbegin\u001b[0;34m(self)\u001b[0m\n\u001b[1;32m    304\u001b[0m         \u001b[0;31m# read until we get a non-100 response\u001b[0m\u001b[0;34m\u001b[0m\u001b[0;34m\u001b[0m\u001b[0;34m\u001b[0m\u001b[0m\n\u001b[1;32m    305\u001b[0m         \u001b[0;32mwhile\u001b[0m \u001b[0;32mTrue\u001b[0m\u001b[0;34m:\u001b[0m\u001b[0;34m\u001b[0m\u001b[0;34m\u001b[0m\u001b[0m\n\u001b[0;32m--> 306\u001b[0;31m             \u001b[0mversion\u001b[0m\u001b[0;34m,\u001b[0m \u001b[0mstatus\u001b[0m\u001b[0;34m,\u001b[0m \u001b[0mreason\u001b[0m \u001b[0;34m=\u001b[0m \u001b[0mself\u001b[0m\u001b[0;34m.\u001b[0m\u001b[0m_read_status\u001b[0m\u001b[0;34m(\u001b[0m\u001b[0;34m)\u001b[0m\u001b[0;34m\u001b[0m\u001b[0;34m\u001b[0m\u001b[0m\n\u001b[0m\u001b[1;32m    307\u001b[0m             \u001b[0;32mif\u001b[0m \u001b[0mstatus\u001b[0m \u001b[0;34m!=\u001b[0m \u001b[0mCONTINUE\u001b[0m\u001b[0;34m:\u001b[0m\u001b[0;34m\u001b[0m\u001b[0;34m\u001b[0m\u001b[0m\n\u001b[1;32m    308\u001b[0m                 \u001b[0;32mbreak\u001b[0m\u001b[0;34m\u001b[0m\u001b[0;34m\u001b[0m\u001b[0m\n",
      "\u001b[0;32m~/opt/anaconda3/lib/python3.7/http/client.py\u001b[0m in \u001b[0;36m_read_status\u001b[0;34m(self)\u001b[0m\n\u001b[1;32m    265\u001b[0m \u001b[0;34m\u001b[0m\u001b[0m\n\u001b[1;32m    266\u001b[0m     \u001b[0;32mdef\u001b[0m \u001b[0m_read_status\u001b[0m\u001b[0;34m(\u001b[0m\u001b[0mself\u001b[0m\u001b[0;34m)\u001b[0m\u001b[0;34m:\u001b[0m\u001b[0;34m\u001b[0m\u001b[0;34m\u001b[0m\u001b[0m\n\u001b[0;32m--> 267\u001b[0;31m         \u001b[0mline\u001b[0m \u001b[0;34m=\u001b[0m \u001b[0mstr\u001b[0m\u001b[0;34m(\u001b[0m\u001b[0mself\u001b[0m\u001b[0;34m.\u001b[0m\u001b[0mfp\u001b[0m\u001b[0;34m.\u001b[0m\u001b[0mreadline\u001b[0m\u001b[0;34m(\u001b[0m\u001b[0m_MAXLINE\u001b[0m \u001b[0;34m+\u001b[0m \u001b[0;36m1\u001b[0m\u001b[0;34m)\u001b[0m\u001b[0;34m,\u001b[0m \u001b[0;34m\"iso-8859-1\"\u001b[0m\u001b[0;34m)\u001b[0m\u001b[0;34m\u001b[0m\u001b[0;34m\u001b[0m\u001b[0m\n\u001b[0m\u001b[1;32m    268\u001b[0m         \u001b[0;32mif\u001b[0m \u001b[0mlen\u001b[0m\u001b[0;34m(\u001b[0m\u001b[0mline\u001b[0m\u001b[0;34m)\u001b[0m \u001b[0;34m>\u001b[0m \u001b[0m_MAXLINE\u001b[0m\u001b[0;34m:\u001b[0m\u001b[0;34m\u001b[0m\u001b[0;34m\u001b[0m\u001b[0m\n\u001b[1;32m    269\u001b[0m             \u001b[0;32mraise\u001b[0m \u001b[0mLineTooLong\u001b[0m\u001b[0;34m(\u001b[0m\u001b[0;34m\"status line\"\u001b[0m\u001b[0;34m)\u001b[0m\u001b[0;34m\u001b[0m\u001b[0;34m\u001b[0m\u001b[0m\n",
      "\u001b[0;32m~/opt/anaconda3/lib/python3.7/socket.py\u001b[0m in \u001b[0;36mreadinto\u001b[0;34m(self, b)\u001b[0m\n\u001b[1;32m    587\u001b[0m         \u001b[0;32mwhile\u001b[0m \u001b[0;32mTrue\u001b[0m\u001b[0;34m:\u001b[0m\u001b[0;34m\u001b[0m\u001b[0;34m\u001b[0m\u001b[0m\n\u001b[1;32m    588\u001b[0m             \u001b[0;32mtry\u001b[0m\u001b[0;34m:\u001b[0m\u001b[0;34m\u001b[0m\u001b[0;34m\u001b[0m\u001b[0m\n\u001b[0;32m--> 589\u001b[0;31m                 \u001b[0;32mreturn\u001b[0m \u001b[0mself\u001b[0m\u001b[0;34m.\u001b[0m\u001b[0m_sock\u001b[0m\u001b[0;34m.\u001b[0m\u001b[0mrecv_into\u001b[0m\u001b[0;34m(\u001b[0m\u001b[0mb\u001b[0m\u001b[0;34m)\u001b[0m\u001b[0;34m\u001b[0m\u001b[0;34m\u001b[0m\u001b[0m\n\u001b[0m\u001b[1;32m    590\u001b[0m             \u001b[0;32mexcept\u001b[0m \u001b[0mtimeout\u001b[0m\u001b[0;34m:\u001b[0m\u001b[0;34m\u001b[0m\u001b[0;34m\u001b[0m\u001b[0m\n\u001b[1;32m    591\u001b[0m                 \u001b[0mself\u001b[0m\u001b[0;34m.\u001b[0m\u001b[0m_timeout_occurred\u001b[0m \u001b[0;34m=\u001b[0m \u001b[0;32mTrue\u001b[0m\u001b[0;34m\u001b[0m\u001b[0;34m\u001b[0m\u001b[0m\n",
      "\u001b[0;32m~/opt/anaconda3/lib/python3.7/ssl.py\u001b[0m in \u001b[0;36mrecv_into\u001b[0;34m(self, buffer, nbytes, flags)\u001b[0m\n\u001b[1;32m   1069\u001b[0m                   \u001b[0;34m\"non-zero flags not allowed in calls to recv_into() on %s\"\u001b[0m \u001b[0;34m%\u001b[0m\u001b[0;34m\u001b[0m\u001b[0;34m\u001b[0m\u001b[0m\n\u001b[1;32m   1070\u001b[0m                   self.__class__)\n\u001b[0;32m-> 1071\u001b[0;31m             \u001b[0;32mreturn\u001b[0m \u001b[0mself\u001b[0m\u001b[0;34m.\u001b[0m\u001b[0mread\u001b[0m\u001b[0;34m(\u001b[0m\u001b[0mnbytes\u001b[0m\u001b[0;34m,\u001b[0m \u001b[0mbuffer\u001b[0m\u001b[0;34m)\u001b[0m\u001b[0;34m\u001b[0m\u001b[0;34m\u001b[0m\u001b[0m\n\u001b[0m\u001b[1;32m   1072\u001b[0m         \u001b[0;32melse\u001b[0m\u001b[0;34m:\u001b[0m\u001b[0;34m\u001b[0m\u001b[0;34m\u001b[0m\u001b[0m\n\u001b[1;32m   1073\u001b[0m             \u001b[0;32mreturn\u001b[0m \u001b[0msuper\u001b[0m\u001b[0;34m(\u001b[0m\u001b[0;34m)\u001b[0m\u001b[0;34m.\u001b[0m\u001b[0mrecv_into\u001b[0m\u001b[0;34m(\u001b[0m\u001b[0mbuffer\u001b[0m\u001b[0;34m,\u001b[0m \u001b[0mnbytes\u001b[0m\u001b[0;34m,\u001b[0m \u001b[0mflags\u001b[0m\u001b[0;34m)\u001b[0m\u001b[0;34m\u001b[0m\u001b[0;34m\u001b[0m\u001b[0m\n",
      "\u001b[0;32m~/opt/anaconda3/lib/python3.7/ssl.py\u001b[0m in \u001b[0;36mread\u001b[0;34m(self, len, buffer)\u001b[0m\n\u001b[1;32m    927\u001b[0m         \u001b[0;32mtry\u001b[0m\u001b[0;34m:\u001b[0m\u001b[0;34m\u001b[0m\u001b[0;34m\u001b[0m\u001b[0m\n\u001b[1;32m    928\u001b[0m             \u001b[0;32mif\u001b[0m \u001b[0mbuffer\u001b[0m \u001b[0;32mis\u001b[0m \u001b[0;32mnot\u001b[0m \u001b[0;32mNone\u001b[0m\u001b[0;34m:\u001b[0m\u001b[0;34m\u001b[0m\u001b[0;34m\u001b[0m\u001b[0m\n\u001b[0;32m--> 929\u001b[0;31m                 \u001b[0;32mreturn\u001b[0m \u001b[0mself\u001b[0m\u001b[0;34m.\u001b[0m\u001b[0m_sslobj\u001b[0m\u001b[0;34m.\u001b[0m\u001b[0mread\u001b[0m\u001b[0;34m(\u001b[0m\u001b[0mlen\u001b[0m\u001b[0;34m,\u001b[0m \u001b[0mbuffer\u001b[0m\u001b[0;34m)\u001b[0m\u001b[0;34m\u001b[0m\u001b[0;34m\u001b[0m\u001b[0m\n\u001b[0m\u001b[1;32m    930\u001b[0m             \u001b[0;32melse\u001b[0m\u001b[0;34m:\u001b[0m\u001b[0;34m\u001b[0m\u001b[0;34m\u001b[0m\u001b[0m\n\u001b[1;32m    931\u001b[0m                 \u001b[0;32mreturn\u001b[0m \u001b[0mself\u001b[0m\u001b[0;34m.\u001b[0m\u001b[0m_sslobj\u001b[0m\u001b[0;34m.\u001b[0m\u001b[0mread\u001b[0m\u001b[0;34m(\u001b[0m\u001b[0mlen\u001b[0m\u001b[0;34m)\u001b[0m\u001b[0;34m\u001b[0m\u001b[0;34m\u001b[0m\u001b[0m\n",
      "\u001b[0;31mKeyboardInterrupt\u001b[0m: "
     ]
    }
   ],
   "source": [
    "# Création du dossier `icon`\n",
    "import os\n",
    "if not os.path.exists('icon'):\n",
    "    os.makedirs('icon')\n",
    "\n",
    "# Récupération des images\n",
    "for icon_url in icon_url_list:\n",
    "    filename = icon_url.split(\"/\")[-1]\n",
    "\n",
    "    # Open the url image, set stream to True, this will return the stream content.\n",
    "    r = requests.get(icon_url, stream = True)\n",
    "\n",
    "    # Check if the image was retrieved successfully\n",
    "    if r.status_code == 200:\n",
    "        # Set decode_content value to True, otherwise the downloaded image file's size will be zero.\n",
    "        r.raw.decode_content = True\n",
    "    \n",
    "        # Open a local file with wb ( write binary ) permission.\n",
    "        with open(os.path.join('icon',filename) ,'wb') as f:\n",
    "            shutil.copyfileobj(r.raw, f)"
   ]
  },
  {
   "cell_type": "code",
   "execution_count": null,
   "metadata": {},
   "outputs": [],
   "source": []
  }
 ],
 "metadata": {
  "colab": {
   "name": "td2a_eco_Travailler_du_texte_les_expressions_regulieres.ipynb",
   "provenance": [],
   "toc_visible": true
  },
  "kernelspec": {
   "display_name": "Python 3",
   "language": "python",
   "name": "python3"
  },
  "language_info": {
   "codemirror_mode": {
    "name": "ipython",
    "version": 3
   },
   "file_extension": ".py",
   "mimetype": "text/x-python",
   "name": "python",
   "nbconvert_exporter": "python",
   "pygments_lexer": "ipython3",
   "version": "3.7.4"
  }
 },
 "nbformat": 4,
 "nbformat_minor": 4
}
